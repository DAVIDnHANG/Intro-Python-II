{
 "cells": [
  {
   "cell_type": "code",
   "execution_count": 30,
   "metadata": {
    "collapsed": true,
    "pycharm": {
     "is_executing": false
    }
   },
   "outputs": [],
   "source": [
    "import random\n",
    "from prompt_toolkit import prompt\n",
    "from src.room import Room\n",
    "from src.player import Player\n",
    "\n",
    "# Declare all the rooms"
   ]
  },
  {
   "cell_type": "code",
   "execution_count": 31,
   "outputs": [],
   "source": [
    "room = {\n",
    "    'outside': Room(\"Outside Cave Entrance\", \"North of you the cave mount beckons\"), \n",
    "    'foyer': Room(\"Foyer\", \"\"\"Dim light filters in from the south. Dusty passages run north and east.\"\"\"), \n",
    "    'overlook': Room(\"Grand Overlook\", \"\"\"A steep cliff appears before you, falling into the darkness. Ahead to the north, a light flickers in the distance, but there is no way across the chasm.\"\"\"), \n",
    "    'narrow': Room(\"Narrow Passage\", \"\"\"The narrow passage bends here from west to north. The smell of gold permeates the air.\"\"\"),\n",
    "    'treasure': Room(\"Treasure Chamber\", \"\"\"You've found the long-lost treasure chamber! Sadly, it has already been completely emptied by earlier adventurers. The only exit is to the south.\"\"\"),\n",
    "}"
   ],
   "metadata": {
    "collapsed": false,
    "pycharm": {
     "name": "#%%\n",
     "is_executing": false
    }
   }
  },
  {
   "cell_type": "code",
   "execution_count": 32,
   "outputs": [],
   "source": [
    "# Link rooms together\n",
    "\n",
    "room['outside'].n_to = room['foyer']\n",
    "room['foyer'].s_to = room['outside']\n",
    "room['foyer'].n_to = room['overlook']\n",
    "room['foyer'].e_to = room['narrow']\n",
    "room['overlook'].s_to = room['foyer']\n",
    "room['narrow'].w_to = room['foyer']\n",
    "room['narrow'].n_to = room['treasure']\n",
    "room['treasure'].s_to = room['narrow']"
   ],
   "metadata": {
    "collapsed": false,
    "pycharm": {
     "name": "#%%\n",
     "is_executing": false
    }
   }
  },
  {
   "cell_type": "code",
   "execution_count": 38,
   "outputs": [
    {
     "name": "stdout",
     "text": [
      "<class 'src.room.Room'>\n"
     ],
     "output_type": "stream"
    }
   ],
   "source": [
    "print(type(room['foyer']))"
   ],
   "metadata": {
    "collapsed": false,
    "pycharm": {
     "name": "#%%\n",
     "is_executing": false
    }
   }
  },
  {
   "cell_type": "code",
   "execution_count": null,
   "outputs": [],
   "source": [
    "def print_commands():\n",
    "    prompt(\n",
    "        f\"\"\"Commands:\n",
    "        N- north E-east S- south  W-west Q-quit game\"\"\")\n",
    "t"
   ],
   "metadata": {
    "collapsed": false,
    "pycharm": {
     "name": "#%%\n"
    }
   }
  },
  {
   "cell_type": "code",
   "execution_count": 39,
   "outputs": [],
   "source": [
    "# 1) Make a new player object \n",
    "# 2) that is currently in the 'outside' room.\n",
    "from src.player import Player \n",
    "#player requires two parameters name and current_room\n",
    "player = Player('Bob', room[\"outside\"])\n",
    "#make the player object name bob who is outside.\n",
    "# Write a loop that:\n",
    "#\n",
    "# * Prints the current room name\n",
    "# * Prints the current description (the textwrap module might be useful here).\n",
    "# * Waits for user input and decides what to do.\n",
    "while True:\n",
    "    #ask user to input\n",
    "    command = input(f\"n-north, s-south, w-west , e-east, q-quit movement\").lower().split()\n",
    "    #print the command he entered\n",
    "    if len(command) ==1:\n",
    "        command = command[0]\n",
    "        print(\"command:\" command)\n",
    "    #make player move NESW\n",
    "        if command in [\"n\", \"s\", \"e\", \"w\"]:\n",
    "            player.current_room = try_direction(command, player.current_room)\n",
    "            location_info()\n",
    "            continue\n",
    "    elif command == \"q\":\n",
    "        break\n",
    "# If the user enters a cardinal direction, attempt to move to the room there.\n",
    "# Print an error message if the movement isn't allowed.\n",
    "#\n",
    "# If the user enters \"q\", quit the game.\n",
    "\n",
    "\n",
    "#"
   ],
   "metadata": {
    "collapsed": false,
    "pycharm": {
     "name": "#%%\n",
     "is_executing": false
    }
   }
  },
  {
   "cell_type": "code",
   "execution_count": null,
   "outputs": [],
   "source": [
    "\n"
   ],
   "metadata": {
    "collapsed": false,
    "pycharm": {
     "name": "#%%\n",
     "is_executing": false
    }
   }
  }
 ],
 "metadata": {
  "kernelspec": {
   "display_name": "Python 3",
   "language": "python",
   "name": "python3"
  },
  "language_info": {
   "codemirror_mode": {
    "name": "ipython",
    "version": 2
   },
   "file_extension": ".py",
   "mimetype": "text/x-python",
   "name": "python",
   "nbconvert_exporter": "python",
   "pygments_lexer": "ipython2",
   "version": "2.7.6"
  },
  "pycharm": {
   "stem_cell": {
    "cell_type": "raw",
    "source": [],
    "metadata": {
     "collapsed": false
    }
   }
  }
 },
 "nbformat": 4,
 "nbformat_minor": 0
}